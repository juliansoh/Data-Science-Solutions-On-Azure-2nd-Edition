{
 "cells": [
  {
   "cell_type": "markdown",
   "metadata": {},
   "source": [
    "# Getting Started with Prompt Engineering"
   ]
  },
  {
   "cell_type": "markdown",
   "metadata": {},
   "source": [
    "## Prompt Engineering Basics\n",
    "\n",
    "### 1. Put Instructions at the Beginning: "
   ]
  },
  {
   "cell_type": "code",
   "execution_count": 3,
   "metadata": {},
   "outputs": [],
   "source": [
    "#Import required libraries and load environment variables  \n",
    "import os  \n",
    "from openai import AzureOpenAI  \n",
    "import json  \n",
    "  \n",
    "# Set up the API credentials  \n",
    "GPT4o_API_KEY = \"<your Azure openai Key>\" \n",
    "GPT4o_DEPLOYMENT_ENDPOINT = \"https://priya-eastus2.openai.azure.com/\"  \n",
    "GPT4o_DEPLOYMENT_NAME = \"gpt-4o\"\n",
    "  \n",
    "# Initialize the Azure OpenAI client  \n",
    "client = AzureOpenAI(  \n",
    "    azure_endpoint=GPT4o_DEPLOYMENT_ENDPOINT,  \n",
    "    api_key=GPT4o_API_KEY,  \n",
    "    api_version=\"2024-02-01\"  \n",
    ")  \n",
    "\n",
    "# Define the text to summarize  \n",
    "text = \"\"\"  \n",
    "I love this game very much. I love the colourful candies.Recently, the developer of the application changed the music and added new candies. Although, the new music is also good but the previous one was actually suitable for the game and it was perfect for this game. We wish if we get the options to switch the music to the previous one. We miss that music alot and hope one day we get it back again. What I don't like about this game is the presence of horse and cartoons with dark complexion.  \n",
    "\"\"\"  \n",
    "  \n",
    "# Define the function to call the Azure OpenAI GPT-4 chat completion  \n",
    "def summarize_text_with_gpt4_chat(text):  \n",
    "    response = client.chat.completions.create(  \n",
    "        model=GPT4o_DEPLOYMENT_NAME,  # Use the deployment name from the environment variables  \n",
    "        messages=[  \n",
    "            {\"role\": \"system\", \"content\": \"You are an assistant that helps summarize text.\"},  \n",
    "            {\"role\": \"user\", \"content\": f\"Summarize the following text, highlighting the main point:\\n\\n{text}\"}  \n",
    "        ],  \n",
    "        max_tokens=150,  \n",
    "        temperature=0.5  \n",
    "    )  \n",
    "    return response.choices[0].message.content\n",
    "  \n",
    "# Call the function and print the summary  \n",
    "summary = summarize_text_with_gpt4_chat(text)  \n",
    "print(\"Summary:\", summary)  \n"
   ]
  },
  {
   "cell_type": "markdown",
   "metadata": {},
   "source": [
    "### 2. Be Explicit about Output format"
   ]
  },
  {
   "cell_type": "code",
   "execution_count": 9,
   "metadata": {},
   "outputs": [
    {
     "name": "stdout",
     "output_type": "stream",
     "text": [
      "Summary:\n",
      " 1. The developer of a beloved game recently updated the music and added new candies; while the new music is good, many players, including the author, preferred the previous music and wish for an option to switch back to it.\n",
      "2. The author enjoys the colorful candies but dislikes the presence of a horse and dark-complexioned cartoons in the game.\n"
     ]
    }
   ],
   "source": [
    "# Define the function to call the Azure OpenAI GPT-4 chat completion  \n",
    "def summarize_text_with_gpt4_chat(text):  \n",
    "    response = client.chat.completions.create(  \n",
    "        model=GPT4o_DEPLOYMENT_NAME,  # Use the deployment name from the environment variables  \n",
    "        messages=[  \n",
    "            {\"role\": \"system\", \"content\": \"You are an assistant that helps summarize text.\"},  \n",
    "            {\"role\": \"user\", \"content\": f\"Summarize the article in 2 numbered bullet points, highlighting the main point.:\\n\\n{text}\"}  \n",
    "        ],  \n",
    "        max_tokens=150,  \n",
    "        temperature=0.5  \n",
    "    )  \n",
    "    return response.choices[0].message.content\n",
    "  \n",
    "# Call the function and print the summary  \n",
    "summary = summarize_text_with_gpt4_chat(text)  \n",
    "print(\"Summary:\" \"\\n\", summary)  "
   ]
  },
  {
   "cell_type": "markdown",
   "metadata": {},
   "source": [
    "### 3. Avoid Negations"
   ]
  },
  {
   "cell_type": "code",
   "execution_count": 42,
   "metadata": {},
   "outputs": [],
   "source": [
    "# Define the function to call the Azure OpenAI GPT-4 chat completion  \n",
    "def summarize_with_negative_instruction(text):  \n",
    "    response = client.chat.completions.create(  \n",
    "        model=GPT4o_DEPLOYMENT_NAME,  # Use the deployment name from the environment variables  \n",
    "        messages=[  \n",
    "            {\"role\": \"system\", \"content\": \"You are an assistant that helps summarize text.\"},  \n",
    "            {\"role\": \"user\", \"content\": f\"Summarize the following text. Don't be verbose and Don't generate more than 2 sentences \\n{text}\"}  \n",
    "        ],  \n",
    "        max_tokens=150,  \n",
    "        temperature=0.5  \n",
    "    )  \n",
    "    return response.choices[0].message.content\n",
    "  "
   ]
  },
  {
   "cell_type": "code",
   "execution_count": 43,
   "metadata": {},
   "outputs": [],
   "source": [
    "# Define the function to call the Azure OpenAI GPT-4 chat completion  \n",
    "def summarize_with_positive_instruction(text):  \n",
    "    response = client.chat.completions.create(  \n",
    "        model=GPT4o_DEPLOYMENT_NAME,  # Use the deployment name from the environment variables  \n",
    "        messages=[  \n",
    "            {\"role\": \"system\", \"content\": \"You are an assistant that helps summarize text.\"},  \n",
    "            {\"role\": \"user\", \"content\": f\"Summarize the following text. Provide a concise summary with 2 very short sentences \\n{text}\"}  \n",
    "        ],  \n",
    "        max_tokens=150,  \n",
    "        temperature=0.5  \n",
    "    )  \n",
    "    return response.choices[0].message.content\n"
   ]
  },
  {
   "cell_type": "code",
   "execution_count": 44,
   "metadata": {},
   "outputs": [
    {
     "name": "stdout",
     "output_type": "stream",
     "text": [
      "Summary with Negative Instruction: Artificial intelligence (AI) is the simulation of human intelligence in machines, allowing them to perform tasks that typically require human intelligence. It is being increasingly used in various industries and raises ethical concerns related to privacy, bias, and job displacement. Efforts are being made to develop ethical AI frameworks and guidelines, eliminate biases, protect user privacy, and address the impact of AI on the job market through retraining and education.\n",
      "\n",
      "Summary with Positive Instruction: Artificial intelligence (AI) is the simulation of human intelligence in machines that can think and learn, with applications in various industries. However, ethical concerns and potential job displacement need to be addressed through transparent and fair AI frameworks, as well as retraining and education programs.\n"
     ]
    }
   ],
   "source": [
    "# Define the text to summarize  \n",
    "text = \"\"\"  \n",
    "Artificial intelligence (AI) refers to the simulation of human intelligence in machines that are programmed to think and learn. These machines are capable of performing tasks that typically require human intelligence, such as visual perception, speech recognition, decision-making, and language translation. AI systems are powered by algorithms that can process large amounts of data to identify patterns and make predictions. As technology advances, AI is becoming increasingly prevalent in various industries, including healthcare, finance, and transportation. Its applications range from automating routine tasks to providing insights that drive strategic decision-making.  While AI has the potential to revolutionize the way we live and work, it also raises ethical and societal concerns related to privacy, bias, and job displacement. As AI continues to evolve, it is essential to consider the implications of its widespread adoption and ensure that it is developed and used responsibly.To address these concerns, researchers and policymakers are increasingly focusing on the development of ethical AI frameworks and guidelines. These frameworks aim to ensure that AI systems are transparent, fair, and accountable. For instance, there are ongoing efforts to eliminate biases in AI algorithms, which can arise from skewed training data or flawed design processes. Additionally, maintaining user privacy is a critical aspect, with regulations such as the General Data Protection Regulation (GDPR) in the European Union setting standards for data protection and user consent.\n",
    "Another significant area of focus is the impact of AI on the job market. While AI has the potential to create new job opportunities and enhance productivity, it also poses the risk of job displacement, particularly in roles that involve routine and repetitive tasks. To mitigate this, there is a need for workforce retraining and upskilling programs to help individuals adapt to the changing job landscape. Emphasizing education in STEM (Science, Technology, Engineering, and Mathematics) fields can also prepare future generations for an AI-driven world.\n",
    "\"\"\"  \n",
    "  \n",
    "# Call the function with negative instruction and print the summary  \n",
    "negative_summary = summarize_with_negative_instruction(text)  \n",
    "print(\"Summary with Negative Instruction:\", negative_summary + \"\\n\")  \n",
    "  \n",
    "# Call the function with positive instruction and print the summary  \n",
    "positive_summary = summarize_with_positive_instruction(text)  \n",
    "print(\"Summary with Positive Instruction:\", positive_summary)  \n"
   ]
  },
  {
   "cell_type": "markdown",
   "metadata": {},
   "source": [
    "### 4. Use Examples- Few Shot Learning: "
   ]
  },
  {
   "cell_type": "code",
   "execution_count": 9,
   "metadata": {},
   "outputs": [
    {
     "name": "stdout",
     "output_type": "stream",
     "text": [
      "Summary:\n",
      " Event: Badminton Men's Singles  \n",
      "Year: 2020  \n",
      "Data: Viktor Axelsen, Denmark  \n",
      "Gold Medalist: Viktor Axelsen, Denmark  \n",
      "\n",
      "Event: Badminton Women's Singles  \n",
      "Year: 2020  \n",
      "Data: Chen Yufei, China  \n",
      "Gold Medalist: Chen Yufei, China  \n",
      "\n",
      "Event: Badminton Men's Doubles  \n",
      "Year: 2020  \n",
      "Data: Lee Yang and Wang Chi-Lin, Chinese Taipei  \n",
      "Gold Medalist: Lee Yang and Wang Chi-Lin, Chinese Taipei  \n",
      "\n",
      "Event: Badminton Women's Doubles  \n",
      "Year: 2020  \n",
      "Data: Greysia Polii and Apriyani Rahayu, Indonesia  \n",
      "Gold Medalist: Greysia Polii and Apriyani Rahayu, Indonesia  \n",
      "\n",
      "Event: Badminton Mixed Doubles  \n",
      "Year: 2020  \n",
      "Data: Wang Yilyu and Huang Dongping, China  \n",
      "Gold Medalist: Wang Yilyu and Huang Dongping, China  \n"
     ]
    }
   ],
   "source": [
    "# Define the prompt with few-shot examples  \n",
    "prompt = \"\"\"  \n",
    "Extract gold medalist information from the Olympics 2020 based on sport. Extract all categories of the sport.\n",
    "  \n",
    "Example 1:  \n",
    "Event: 100m Sprint (Men)  \n",
    "Year: 2008  \n",
    "Data: Usain Bolt, Jamaica, 9.69s  \n",
    "Gold Medalist: Usain Bolt, Jamaica, 9.69s  \n",
    "  \n",
    "Example 2:  \n",
    "Event: Marathon (Women)  \n",
    "Year: 2012  \n",
    "Data: Tiki Gelana, Ethiopia, 2:23:07  \n",
    "Gold Medalist: Tiki Gelana, Ethiopia, 2:23:07  \n",
    "  \n",
    "Example 3:  \n",
    "Event: Swimming 100m Freestyle (Women)  \n",
    "Year: 2016  \n",
    "Data: Simone Manuel, USA, 52.70s; Penny Oleksiak, Canada, 52.70s  \n",
    "Gold Medalist: Simone Manuel, USA, 52.70s; Penny Oleksiak, Canada, 52.70s  \n",
    "  \n",
    "\"\"\"  \n",
    "# Define the function to call the Azure OpenAI GPT-4 chat completion  \n",
    "def summarize_text_with_gpt4_chat():  \n",
    "    response = client.chat.completions.create(  \n",
    "        model=GPT4o_DEPLOYMENT_NAME,  # Use the deployment name from the environment variables  \n",
    "        messages=[  \n",
    "            {\"role\": \"system\", \"content\": prompt},  \n",
    "            {\"role\": \"user\", \"content\": f\"who won in Badminton?:\\n\"}  \n",
    "        ],  \n",
    "        max_tokens=250,  \n",
    "        temperature=0.5  \n",
    "    )  \n",
    "    return response.choices[0].message.content\n",
    "  \n",
    "# Call the function and print the summary  \n",
    "summary = summarize_text_with_gpt4_chat()  \n",
    "print(\"Summary:\" \"\\n\", summary)  "
   ]
  },
  {
   "cell_type": "markdown",
   "metadata": {},
   "source": [
    "### 5. Prompt Chaining: Break The task"
   ]
  },
  {
   "cell_type": "code",
   "execution_count": 22,
   "metadata": {},
   "outputs": [
    {
     "name": "stdout",
     "output_type": "stream",
     "text": [
      "Summary:\n",
      " Sure, here are five relevant facts about the Olympics along with search queries that can be used to verify them:\n",
      "\n",
      "### Fact 1: The Modern Olympics were first held in Athens, Greece, in 1896.\n",
      "**Search Query:** \"First modern Olympics Athens 1896\"\n",
      "\n",
      "### Fact 2: The Olympic Games are held every four years, alternating between the Summer and Winter Games.\n",
      "**Search Query:** \"Olympic Games held every four years Summer Winter\"\n",
      "\n",
      "### Fact 3: The Olympic rings symbolize the union of the five inhabited continents and the meeting of athletes from around the world.\n",
      "**Search Query:** \"Olympic rings meaning five continents\"\n",
      "\n",
      "### Fact 4: The International Olympic Committee (IOC) is responsible for organizing the Olympic Games.\n",
      "**Search Query:** \"International Olympic Committee IOC role\"\n",
      "\n",
      "### Fact 5: The Olympic flame is lit in Olympia, Greece, and then relayed to the host city through a torch relay.\n",
      "**Search Query:** \"Olympic flame lit in Olympia torch relay\"\n",
      "\n",
      "These search queries should help you verify the facts about the Olympics.\n"
     ]
    }
   ],
   "source": [
    "# Original Task: Generate search queries to verify information about the Olympics.\n",
    "\n",
    "# Rephrased Task:\n",
    "\n",
    "prompt= \"Extract 5 relevant facts about the Olympics. \\\n",
    "Generate search queries that can be used to verify those facts.\"\n",
    "\n",
    "\n",
    "# Define the function to call the Azure OpenAI GPT-4 chat completion  \n",
    "def summarize_text_with_gpt4_chat():  \n",
    "    response = client.chat.completions.create(  \n",
    "        model=GPT4o_DEPLOYMENT_NAME,  # Use the deployment name from the environment variables  \n",
    "        messages=[  \n",
    "            {\"role\": \"system\", \"content\": \"You're an AI assistant that helps people find information.\"},  \n",
    "            {\"role\": \"user\", \"content\": prompt}\n",
    "        ],  \n",
    "        max_tokens=500,  \n",
    "        temperature=0.5  \n",
    "    )  \n",
    "    return response.choices[0].message.content\n",
    "  \n",
    "# Call the function and print the summary  \n",
    "summary = summarize_text_with_gpt4_chat()  \n",
    "print(\"Summary:\" \"\\n\", summary)  "
   ]
  },
  {
   "cell_type": "markdown",
   "metadata": {},
   "source": [
    "### 6. Chain of Thought Prompting"
   ]
  },
  {
   "cell_type": "code",
   "execution_count": 24,
   "metadata": {},
   "outputs": [
    {
     "name": "stdout",
     "output_type": "stream",
     "text": [
      "Summary:\n",
      " To determine who has climbed Mount Everest the most number of times, we need to follow a step-by-step approach:\n",
      "\n",
      "1. **Identify Reliable Sources**: Start by identifying reliable sources that track records of Everest summits. This includes mountaineering organizations, reputable news articles, and official records.\n",
      "\n",
      "2. **Search for Records**: Look for the latest and most accurate records of individuals who have summited Mount Everest multiple times.\n",
      "\n",
      "3. **Verify Information**: Cross-check the information from multiple sources to ensure accuracy.\n",
      "\n",
      "4. **Consolidate Data**: Compile the data and identify the individual with the highest number of successful summits.\n",
      "\n",
      "### Step 1: Identify Reliable Sources\n",
      "Reliable sources include:\n",
      "- The Himalayan Database\n",
      "- Guinness World Records\n",
      "- Reputable news outlets like BBC, CNN, National Geographic\n",
      "\n",
      "### Step 2: Search for Records\n",
      "Search for the most recent records of individuals who have summited Mount Everest multiple times. \n",
      "\n",
      "### Step 3: Verify Information\n",
      "Cross-check the information from multiple sources to ensure consistency and accuracy.\n",
      "\n",
      "### Step 4: Consolidate Data\n",
      "Compile the data and identify the individual with the highest number of successful summits.\n",
      "\n",
      "### Research Findings:\n",
      "\n",
      "- **Kami Rita Sherpa**: According to multiple sources, including the Himalayan Database and reputable news outlets like BBC and National Geographic, Kami Rita Sherpa holds the record for the most summits of Mount Everest.\n",
      "\n",
      "- **Records**: As of 2023, Kami Rita Sherpa has summited Mount Everest 28 times. This information is corroborated by multiple reliable sources.\n",
      "\n",
      "Citing Sources:\n",
      "- BBC News: [BBC Article on Kami Rita Sherpa](https://www.bbc.com/news/world-asia-48344319)\n",
      "- National Geographic: [National Geographic Article on Kami Rita Sherpa](https://www.nationalgeographic.com/adventure/article/kami-rita-sherpa-most-everest-summits)\n",
      "\n",
      "### Conclusion\n",
      "After verifying the information from multiple reliable sources, it is clear that Kami Rita Sherpa holds the record for the most summits of Mount Everest.\n",
      "\n",
      "ANSWER is: Kami Rita Sherpa\n"
     ]
    }
   ],
   "source": [
    "# Chain of thought prompt:\n",
    "\n",
    "prompt= \"Who has climbed mount everent the most number of times? Take a step-by-step approach in your response, cite sources and give \\\n",
    "        reasoning before sharing final answer in the below format: ANSWER is: <name>\"\n",
    "\n",
    "\n",
    "# Define the function to call the Azure OpenAI GPT-4 chat completion  \n",
    "def summarize_text_with_gpt4_chat():  \n",
    "    response = client.chat.completions.create(  \n",
    "        model=GPT4o_DEPLOYMENT_NAME,  # Use the deployment name from the environment variables  \n",
    "        messages=[  \n",
    "            {\"role\": \"system\", \"content\": \"You're an AI assistant that helps people find information.\"},  \n",
    "            {\"role\": \"user\", \"content\": prompt}\n",
    "        ],  \n",
    "        max_tokens=500,  \n",
    "        temperature=0.5  \n",
    "    )  \n",
    "    return response.choices[0].message.content\n",
    "  \n",
    "# Call the function and print the summary  \n",
    "summary = summarize_text_with_gpt4_chat()  \n",
    "print(\"Summary:\" \"\\n\", summary)  "
   ]
  },
  {
   "cell_type": "markdown",
   "metadata": {},
   "source": [
    "### 7. Self Consistency Prompting"
   ]
  },
  {
   "cell_type": "code",
   "execution_count": 11,
   "metadata": {},
   "outputs": [
    {
     "name": "stdout",
     "output_type": "stream",
     "text": [
      "Summary:\n",
      " ### List 1:\n",
      "1. Greenhouse gas emissions from burning fossil fuels (e.g., coal, oil, natural gas)\n",
      "2. Deforestation and land use changes\n",
      "3. Industrial processes and agricultural practices\n",
      "\n",
      "### List 2:\n",
      "1. Emissions of carbon dioxide (CO2) from fossil fuels\n",
      "2. Deforestation and habitat destruction\n",
      "3. Methane emissions from agriculture and livestock\n",
      "\n",
      "### List 3:\n",
      "1. Carbon dioxide emissions from fossil fuel combustion\n",
      "2. Deforestation and land-use changes\n",
      "3. Methane emissions from agriculture and waste\n",
      "\n",
      "### Final Answer Based on Consistency:\n",
      "1. Emissions of greenhouse gases, particularly carbon dioxide (CO2) from burning fossil fuels\n",
      "2. Deforestation and land use changes\n",
      "3. Methane emissions from agriculture and livestock\n"
     ]
    }
   ],
   "source": [
    "prompt = \"\"\"  \n",
    "1. List 3 main causes of climate change.  \n",
    "2. Provide another list of the 3 main causes of climate change.  \n",
    "3. Generate a third list of the 3 main causes of climate change.  \n",
    "Derive the Final Answer Based on Consistency of above responses\n",
    "\"\"\"  \n",
    "\n",
    "# Define the function to call the Azure OpenAI GPT-4 chat completion  \n",
    "def summarize_text_with_gpt4_chat():  \n",
    "    response = client.chat.completions.create(  \n",
    "        model=GPT4o_DEPLOYMENT_NAME,  # Use the deployment name from the environment variables  \n",
    "        messages=[  \n",
    "            {\"role\": \"system\", \"content\": \"You're an AI assistant that helps people find information.\"},  \n",
    "            {\"role\": \"user\", \"content\": prompt}\n",
    "        ],  \n",
    "        max_tokens=500,  \n",
    "        temperature=0.5  \n",
    "    )  \n",
    "    return response.choices[0].message.content\n",
    "  \n",
    "# Call the function and print the summary  \n",
    "summary = summarize_text_with_gpt4_chat()  \n",
    "print(\"Summary:\" \"\\n\", summary)  "
   ]
  },
  {
   "cell_type": "markdown",
   "metadata": {},
   "source": [
    "### 8. Tree of Thought Prompting"
   ]
  },
  {
   "cell_type": "code",
   "execution_count": 15,
   "metadata": {},
   "outputs": [
    {
     "name": "stdout",
     "output_type": "stream",
     "text": [
      "Summary:\n",
      " Sure, let's imagine three different experts working together to solve the problem of finding the sum of the first 10 prime numbers. Each expert will write down one step of their thinking, then share it with the group, and continue to the next step.\n",
      "\n",
      "### Step 1\n",
      "\n",
      "**Expert 1:** Identify the first 10 prime numbers. The first few prime numbers are 2, 3, 5, 7, 11, 13, 17, 19, 23, and 29.\n",
      "\n",
      "**Expert 2:** Verify the list of the first 10 prime numbers. The sequence is 2, 3, 5, 7, 11, 13, 17, 19, 23, and 29.\n",
      "\n",
      "**Expert 3:** Confirm the list of the first 10 prime numbers. Yes, the first 10 prime numbers are 2, 3, 5, 7, 11, 13, 17, 19, 23, and 29.\n",
      "\n",
      "### Step 2\n",
      "\n",
      "**Expert 1:** Start adding the numbers in pairs for simplicity: \\(2 + 3 = 5\\), \\(5 + 7 = 12\\), \\(11 + 13 = 24\\), \\(17 + 19 = 36\\), \\(23 + 29 = 52\\).\n",
      "\n",
      "**Expert 2:** Sum the pairs calculated by Expert 1: \\(5 + 12 + 24 + 36 + 52\\).\n",
      "\n",
      "**Expert 3:** Double-check the pairs and their sums: \\(5 + 12 = 17\\), \\(17 + 24 = 41\\), \\(41 + 36 = 77\\), \\(77 + 52 = 129\\).\n",
      "\n",
      "### Step 3\n",
      "\n",
      "**Expert 1:** Add the intermediate sums: \\(5 + 12 + 24 + 36 + 52\\).\n",
      "\n",
      "**Expert 2:** Break down the addition step-by-step: \\(5 + 12 = 17\\), \\(17 + 24 = 41\\), \\(41 + 36 = 77\\), \\(77 + 52 = 129\\).\n",
      "\n",
      "**Expert 3:** Confirm the final sum by rechecking all previous steps: \\(5, 12, 24, 36, 52\\) summed sequentially gives \\(129\\).\n",
      "\n",
      "### Conclusion\n",
      "\n",
      "All experts agree that the sum of the first 10 prime numbers is \\(129\\).\n"
     ]
    }
   ],
   "source": [
    "prompt = \"\"\"Imagine three different experts are answering this question.\n",
    "All experts will write down 1 step of their thinking,\n",
    "then share it with the group.\n",
    "Then all experts will go on to the next step, etc.\n",
    "If any expert realises they're wrong at any point then they leave.\n",
    "The question is.. Find the sum of the first 10 prime numbers\"\"\"\n",
    "\n",
    "# Define the function to call the Azure OpenAI GPT-4 chat completion  \n",
    "def summarize_text_with_gpt4_chat():  \n",
    "    response = client.chat.completions.create(  \n",
    "        model=GPT4o_DEPLOYMENT_NAME,  # Use the deployment name from the environment variables  \n",
    "        messages=[  \n",
    "            {\"role\": \"system\", \"content\": \"You're an AI assistant that helps people find information.\"},  \n",
    "            {\"role\": \"user\", \"content\": prompt}\n",
    "        ],  \n",
    "        max_tokens=800,  \n",
    "        temperature=0.5  \n",
    "    )  \n",
    "    return response.choices[0].message.content\n",
    "  \n",
    "# Call the function and print the summary  \n",
    "summary = summarize_text_with_gpt4_chat()  \n",
    "print(\"Summary:\" \"\\n\", summary)  "
   ]
  },
  {
   "cell_type": "markdown",
   "metadata": {},
   "source": [
    "### 9. Repeat the instructions at the end."
   ]
  },
  {
   "cell_type": "code",
   "execution_count": 27,
   "metadata": {},
   "outputs": [
    {
     "name": "stdout",
     "output_type": "stream",
     "text": [
      "Summary:\n",
      " ```json\n",
      "{\n",
      "  \"highlight1\": \"Climate change is causing the melting of polar ice caps and glaciers, leading to sea-level rise and loss of habitats for species like polar bears and penguins.\",\n",
      "  \"highlight2\": \"Altered precipitation patterns due to climate change are resulting in more frequent and intense droughts and floods, devastating ecosystems and affecting biodiversity and food security.\",\n",
      "  \"highlight3\": \"Ocean acidification and the spread of infectious diseases are further consequences of climate change, impacting marine ecosystems and increasing disease transmission among humans and animals.\"\n",
      "}\n",
      "```\n"
     ]
    }
   ],
   "source": [
    "article = \"Climate change is an urgent global issue that continues to affect ecosystems worldwide. Rising temperatures, changing precipitation patterns, and increased carbon dioxide levels are among the key drivers of this phenomenon. The consequences of climate change on ecosystems are far-reaching and have significant implications for biodiversity, food security, and human well-being. One of the most visible effects of climate change is the melting of polar ice caps and glaciers. As temperatures rise, ice sheets in Greenland and Antarctica are rapidly melting, contributing to sea-level rise. This not only poses a threat to coastal communities but also leads to the loss of critical habitats for various species, including polar bears and penguins. Furthermore, altered precipitation patterns have resulted in more frequent and intense droughts and floods in different parts of the world. These extreme weather events can devastate ecosystems, leading to the loss of plant and animal species, disruption of food chains, and increased vulnerability of communities that depend on these ecosystems for their livelihoods. Ocean acidification is another consequence of climate change that has detrimental effects on marine ecosystems. As carbon dioxide levels rise, the oceans absorb more of this greenhouse gas, leading to increased acidity. This acidification hampers the ability of marine organisms, such as coral reefs and shellfish, to build and maintain their protective structures. Consequently, coral bleaching and decline in shellfish populations have become widespread issues, impacting the overall health and biodiversity of marine ecosystems. Moreover, climate change exacerbates the spread of infectious diseases. Warmer temperatures create suitable conditions for disease vectors, such as mosquitoes, to thrive and expand their geographic range. This has resulted in the increased transmission of diseases like malaria, dengue fever, and Lyme disease, affecting both human and animal populations. Addressing climate change requires global cooperation and concerted efforts to reduce greenhouse gas emissions and adapt to the changing climate. Transitioning to renewable energy sources, promoting sustainable agriculture practices, and conserving ecosystems are crucial steps in mitigating the impacts of climate change. In conclusion, climate change has profound effects on global ecosystems. The melting of ice caps, altered precipitation patterns, ocean acidification, and increased disease transmission are just a few examples of the challenges we face. By taking immediate action and implementing sustainable practices, we can safeguard ecosystems and protect the planet for future generations.\"\n",
    "\n",
    "prompt_with_repeat = \"Summarize the following article about climate change in 3 sentences in JSON format wit keys- highlight1, highlight2, highlight3 \" + article + \"make sure to extract in JSON with keys highlight1, highlight2, highlight3\"\n",
    "\n",
    "# Define the function to call the Azure OpenAI GPT-4 chat completion  \n",
    "def summarize_text_with_gpt4_chat():  \n",
    "    response = client.chat.completions.create(  \n",
    "        model=GPT4o_DEPLOYMENT_NAME,  # Use the deployment name from the environment variables  \n",
    "        messages=[  \n",
    "            {\"role\": \"system\", \"content\": \"You're an AI assistant that helps people find information.\"},  \n",
    "            {\"role\": \"user\", \"content\": prompt_with_repeat}\n",
    "        ],  \n",
    "        max_tokens=800,  \n",
    "        temperature=0.7  \n",
    "    )  \n",
    "    return response.choices[0].message.content\n",
    "  \n",
    "# Call the function and print the summary  \n",
    "summary = summarize_text_with_gpt4_chat()  \n",
    "print(\"Summary:\" \"\\n\", summary)  "
   ]
  },
  {
   "cell_type": "code",
   "execution_count": null,
   "metadata": {},
   "outputs": [],
   "source": []
  }
 ],
 "metadata": {
  "kernelspec": {
   "display_name": "Python 3",
   "language": "python",
   "name": "python3"
  },
  "language_info": {
   "codemirror_mode": {
    "name": "ipython",
    "version": 3
   },
   "file_extension": ".py",
   "mimetype": "text/x-python",
   "name": "python",
   "nbconvert_exporter": "python",
   "pygments_lexer": "ipython3",
   "version": "3.11.9"
  }
 },
 "nbformat": 4,
 "nbformat_minor": 2
}
