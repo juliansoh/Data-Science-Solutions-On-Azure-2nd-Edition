{
 "cells": [
  {
   "cell_type": "markdown",
   "metadata": {},
   "source": [
    "# Semantic Kernel Exercise and Tutorial in C#\n",
    "## Data Science Solutions on Microsoft Azure, 2nd Edition\n",
    "## Julian Soh and Priyanshi Singh"
   ]
  },
  {
   "cell_type": "code",
   "execution_count": 8,
   "metadata": {
    "vscode": {
     "languageId": "polyglot-notebook"
    }
   },
   "outputs": [],
   "source": [
    "//Define variables to hold API endpoint, deployment name, and api key\n",
    "var azureEndpoint = \"https://...\";\n",
    "var model = \"gpt-35\";\n",
    "var apiKey = \"api-key\";"
   ]
  },
  {
   "cell_type": "code",
   "execution_count": 9,
   "metadata": {
    "dotnet_interactive": {
     "language": "csharp"
    },
    "polyglot_notebook": {
     "kernelName": "csharp"
    },
    "vscode": {
     "languageId": "polyglot-notebook"
    }
   },
   "outputs": [],
   "source": [
    "using System;\n",
    "using System.Collections.Generic;\n",
    "using System.IO;\n",
    "using System.Text.Json;\n",
    "using System.Threading.Tasks;"
   ]
  },
  {
   "cell_type": "markdown",
   "metadata": {},
   "source": [
    "Add nuGet package for Microsoft Semantic Kernel"
   ]
  },
  {
   "cell_type": "code",
   "execution_count": 10,
   "metadata": {
    "dotnet_interactive": {
     "language": "csharp"
    },
    "polyglot_notebook": {
     "kernelName": "csharp"
    },
    "vscode": {
     "languageId": "polyglot-notebook"
    }
   },
   "outputs": [
    {
     "data": {
      "text/html": [
       "<div><div></div><div></div><div><strong>Installed Packages</strong><ul><li><span>Microsoft.SemanticKernel, 1.15.0</span></li></ul></div></div>"
      ]
     },
     "metadata": {},
     "output_type": "display_data"
    }
   ],
   "source": [
    "#r \"nuget: Microsoft.SemanticKernel, 1.15.0\""
   ]
  },
  {
   "cell_type": "markdown",
   "metadata": {},
   "source": [
    "Load libraries and instantiate the kernel"
   ]
  },
  {
   "cell_type": "code",
   "execution_count": 11,
   "metadata": {
    "dotnet_interactive": {
     "language": "csharp"
    },
    "polyglot_notebook": {
     "kernelName": "csharp"
    },
    "vscode": {
     "languageId": "polyglot-notebook"
    }
   },
   "outputs": [],
   "source": [
    "using Microsoft.SemanticKernel;\n",
    "using Microsoft.Extensions.Logging;\n",
    "using Microsoft.Extensions.Logging.Abstractions;\n",
    "using Microsoft.Extensions.DependencyInjection;\n",
    "using Kernel = Microsoft.SemanticKernel.Kernel;\n",
    "\n",
    "// Inject your logger \n",
    "// see Microsoft.Extensions.Logging.ILogger @ https://learn.microsoft.com/dotnet/core/extensions/logging\n",
    "ILoggerFactory myLoggerFactory = NullLoggerFactory.Instance;\n",
    "\n",
    "var builder = Kernel.CreateBuilder();\n",
    "builder.Services.AddSingleton(myLoggerFactory);\n",
    "\n",
    "var kernel = builder.Build();"
   ]
  },
  {
   "cell_type": "markdown",
   "metadata": {},
   "source": [
    "Define the Endpoint, keys, and model deployment name"
   ]
  },
  {
   "cell_type": "markdown",
   "metadata": {},
   "source": [
    "Test create an instance of the kernel and configure with values above"
   ]
  },
  {
   "cell_type": "code",
   "execution_count": 12,
   "metadata": {
    "dotnet_interactive": {
     "language": "csharp"
    },
    "polyglot_notebook": {
     "kernelName": "csharp"
    },
    "vscode": {
     "languageId": "polyglot-notebook"
    }
   },
   "outputs": [],
   "source": [
    "using Microsoft.SemanticKernel;\n",
    "using Kernel = Microsoft.SemanticKernel.Kernel;\n",
    "\n",
    "var builder = Kernel.CreateBuilder();\n",
    "\n",
    "// Configure AI backend used by the kernel\n",
    "builder.AddAzureOpenAIChatCompletion(model, azureEndpoint, apiKey);\n",
    "\n",
    "var kernel = builder.Build();"
   ]
  },
  {
   "cell_type": "markdown",
   "metadata": {},
   "source": [
    "Import the email plugin from file by importing the plugin from ~\\prompt_template_samples\\EmailPlugin\\MarketingMail"
   ]
  },
  {
   "cell_type": "code",
   "execution_count": 13,
   "metadata": {
    "dotnet_interactive": {
     "language": "csharp"
    },
    "polyglot_notebook": {
     "kernelName": "csharp"
    },
    "vscode": {
     "languageId": "polyglot-notebook"
    }
   },
   "outputs": [],
   "source": [
    "// MarketingEmail directory path\n",
    "var MarketingEmailPluginDirectoryPath = Path.Combine(System.IO.Directory.GetCurrentDirectory(), \"prompt_template_samples\", \"EmailPlugin\");\n",
    "\n",
    "// Load the MarketingEmailplugin from the Plugins Directory\n",
    "var MarketingEmailPluginFunctions = kernel.ImportPluginFromPromptDirectory(MarketingEmailPluginDirectoryPath);"
   ]
  },
  {
   "cell_type": "markdown",
   "metadata": {},
   "source": [
    "Using the Plugin to generate the marketing email for cycling gear"
   ]
  },
  {
   "cell_type": "code",
   "execution_count": 14,
   "metadata": {
    "dotnet_interactive": {
     "language": "csharp"
    },
    "polyglot_notebook": {
     "kernelName": "csharp"
    },
    "vscode": {
     "languageId": "polyglot-notebook"
    }
   },
   "outputs": [
    {
     "name": "stdout",
     "output_type": "stream",
     "text": [
      "Subject: Don't Miss Out on Our Special Sales Event - Up to 50% Off on Cycling Merchandise\r\n",
      "\r\n",
      "Dear Julian,\r\n",
      "\r\n",
      "We hope this email finds you well. We are excited to announce a special sales event on our cycling merchandise, with discounts of up to 50% off!\r\n",
      "\r\n",
      "Whether you're a seasoned cyclist or just starting out, we have everything you need to enhance your cycling experience. From high-quality bikes to comfortable apparel and accessories, we've got you covered.\r\n",
      "\r\n",
      "Here are some of the amazing deals you can expect:\r\n",
      "\r\n",
      "- 50% off on select bikes\r\n",
      "- 40% off on cycling jerseys and shorts\r\n",
      "- 30% off on helmets and gloves\r\n",
      "- 20% off on cycling shoes and pedals\r\n",
      "\r\n",
      "This is a limited-time offer, so don't miss out on the chance to upgrade your cycling gear at unbeatable prices. Visit our website or drop by our store to take advantage of these amazing deals.\r\n",
      "\r\n",
      "Please note that this email is being sent to you because you opted into our mailing list. If you no longer wish to receive emails from us, you can unsubscribe at any time by clicking the link at the bottom of this email.\r\n",
      "\r\n",
      "Thank you for your continued support, and we look forward to seeing you soon!\r\n",
      "\r\n",
      "Best regards,\r\n",
      "\r\n",
      "[Your Name]\r\n"
     ]
    }
   ],
   "source": [
    "// Construct arguments\n",
    "var arguments = new KernelArguments() { [\"input\"] = \"Cycling\" , [\"recipient\"] = \"Julian Soh\"};\n",
    "\n",
    "// Run the Function called Joke\n",
    "var result = await kernel.InvokeAsync(MarketingEmailPluginFunctions[\"MarketingMail\"], arguments);\n",
    "\n",
    "// Return the result to the Notebook\n",
    "Console.WriteLine(result);"
   ]
  }
 ],
 "metadata": {
  "kernelspec": {
   "display_name": "Python 3",
   "language": "python",
   "name": "python3"
  },
  "language_info": {
   "codemirror_mode": {
    "name": "ipython",
    "version": 3
   },
   "file_extension": ".py",
   "mimetype": "text/x-python",
   "name": "python",
   "nbconvert_exporter": "python",
   "pygments_lexer": "ipython3",
   "version": "3.12.4"
  },
  "polyglot_notebook": {
   "kernelInfo": {
    "defaultKernelName": "csharp",
    "items": [
     {
      "aliases": [],
      "name": "csharp"
     }
    ]
   }
  }
 },
 "nbformat": 4,
 "nbformat_minor": 2
}
