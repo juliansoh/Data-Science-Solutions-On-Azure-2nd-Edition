{
 "cells": [
  {
   "cell_type": "markdown",
   "metadata": {},
   "source": [
    "# Semantic Kernel Exercise and Tutorial in C#\n",
    "## Data Science Solutions on Microsoft Azure, 2nd Edition\n",
    "## Julian Soh and Priyanshi Singh"
   ]
  },
  {
   "cell_type": "code",
   "execution_count": 10,
   "metadata": {
    "dotnet_interactive": {
     "language": "csharp"
    },
    "polyglot_notebook": {
     "kernelName": "csharp"
    },
    "vscode": {
     "languageId": "polyglot-notebook"
    }
   },
   "outputs": [],
   "source": [
    "//Define variables to hold API endpoint, deployment name, and api key\n",
    "var azureEndpoint = \"https://jsopenai-east.openai.azure.com/\";\n",
    "var model = \"gpt-35\";\n",
    "var apiKey = \"75b6983f87db4926ab950aa947fba9c3\";"
   ]
  },
  {
   "cell_type": "code",
   "execution_count": 17,
   "metadata": {
    "dotnet_interactive": {
     "language": "csharp"
    },
    "polyglot_notebook": {
     "kernelName": "csharp"
    },
    "vscode": {
     "languageId": "polyglot-notebook"
    }
   },
   "outputs": [
    {
     "ename": "Error",
     "evalue": "(2,7): error CS0246: The type or namespace name 'system' could not be found (are you missing a using directive or an assembly reference?)",
     "output_type": "error",
     "traceback": [
      "(2,7): error CS0246: The type or namespace name 'system' could not be found (are you missing a using directive or an assembly reference?)"
     ]
    }
   ],
   "source": [
    "using System;\n",
    "using System.ComponentModel;\n",
    "using System.Collections.Generic;\n",
    "using System.IO;\n",
    "using System.Text.Json;\n",
    "using System.Threading.Tasks;"
   ]
  },
  {
   "cell_type": "markdown",
   "metadata": {},
   "source": [
    "Add nuGet package for Microsoft Semantic Kernel"
   ]
  },
  {
   "cell_type": "code",
   "execution_count": 12,
   "metadata": {
    "dotnet_interactive": {
     "language": "csharp"
    },
    "polyglot_notebook": {
     "kernelName": "csharp"
    },
    "vscode": {
     "languageId": "polyglot-notebook"
    }
   },
   "outputs": [
    {
     "data": {
      "text/html": [
       "<div><div></div><div></div><div><strong>Installed Packages</strong><ul><li><span>Microsoft.SemanticKernel, 1.15.0</span></li></ul></div></div>"
      ]
     },
     "metadata": {},
     "output_type": "display_data"
    }
   ],
   "source": [
    "#r \"nuget: Microsoft.SemanticKernel, 1.15.0\""
   ]
  },
  {
   "cell_type": "markdown",
   "metadata": {},
   "source": [
    "Load libraries and instantiate the kernel"
   ]
  },
  {
   "cell_type": "code",
   "execution_count": 18,
   "metadata": {
    "dotnet_interactive": {
     "language": "csharp"
    },
    "polyglot_notebook": {
     "kernelName": "csharp"
    },
    "vscode": {
     "languageId": "polyglot-notebook"
    }
   },
   "outputs": [],
   "source": [
    "using Microsoft.SemanticKernel;\n",
    "using Microsoft.Extensions.Logging;\n",
    "using Microsoft.Extensions.Logging.Abstractions;\n",
    "using Microsoft.Extensions.DependencyInjection;\n",
    "using Kernel = Microsoft.SemanticKernel.Kernel;\n",
    "using Microsoft.SemanticKernel.ChatCompletion;\n",
    "using Microsoft.SemanticKernel.Connectors.OpenAI;\n",
    "\n",
    "// Inject your logger \n",
    "// see Microsoft.Extensions.Logging.ILogger @ https://learn.microsoft.com/dotnet/core/extensions/logging\n",
    "ILoggerFactory myLoggerFactory = NullLoggerFactory.Instance;\n",
    "\n",
    "var builder = Kernel.CreateBuilder();\n",
    "builder.Services.AddSingleton(myLoggerFactory);\n",
    "\n",
    "var kernel = builder.Build();"
   ]
  },
  {
   "cell_type": "markdown",
   "metadata": {},
   "source": [
    "Define the Endpoint, keys, and model deployment name"
   ]
  },
  {
   "cell_type": "markdown",
   "metadata": {},
   "source": [
    "Test create an instance of the kernel and configure with values above"
   ]
  },
  {
   "cell_type": "code",
   "execution_count": 19,
   "metadata": {
    "dotnet_interactive": {
     "language": "csharp"
    },
    "polyglot_notebook": {
     "kernelName": "csharp"
    },
    "vscode": {
     "languageId": "polyglot-notebook"
    }
   },
   "outputs": [],
   "source": [
    "using Microsoft.SemanticKernel;\n",
    "using Kernel = Microsoft.SemanticKernel.Kernel;\n",
    "\n",
    "var builder = Kernel.CreateBuilder();\n",
    "\n",
    "// Configure AI backend used by the kernel\n",
    "builder.AddAzureOpenAIChatCompletion(model, azureEndpoint, apiKey);\n",
    "\n",
    "var kernel = builder.Build();"
   ]
  },
  {
   "cell_type": "markdown",
   "metadata": {},
   "source": [
    "Import the email plugin from file by importing the plugin from ~\\prompt_template_samples\\EmailPlugin\\MarketingMail"
   ]
  },
  {
   "cell_type": "code",
   "execution_count": 20,
   "metadata": {
    "dotnet_interactive": {
     "language": "csharp"
    },
    "polyglot_notebook": {
     "kernelName": "csharp"
    },
    "vscode": {
     "languageId": "polyglot-notebook"
    }
   },
   "outputs": [],
   "source": [
    "// MarketingEmail directory path\n",
    "var MarketingEmailPluginDirectoryPath = Path.Combine(System.IO.Directory.GetCurrentDirectory(), \"prompt_template_samples\", \"EmailPlugin\");\n",
    "var InventoryPluginDirectoryPath = Path.Combine(System.IO.Directory.GetCurrentDirectory(), \"prompt_template_samples\", \"InventoryPlugins\");\n",
    "\n",
    "// Load the MarketingEmailplugin from the Plugins Directory\n",
    "var MarketingEmailPluginFunctions = kernel.ImportPluginFromPromptDirectory(MarketingEmailPluginDirectoryPath);\n",
    "var InventoryPluginFunctions = kernel.ImportPluginFromPromptDirectory(InventoryPluginDirectoryPath);"
   ]
  },
  {
   "cell_type": "code",
   "execution_count": 21,
   "metadata": {
    "vscode": {
     "languageId": "polyglot-notebook"
    }
   },
   "outputs": [],
   "source": [
    "// 2. Enable automatic function calling\n",
    "OpenAIPromptExecutionSettings openAIPromptExecutionSettings = new() \n",
    "{\n",
    "    ToolCallBehavior = ToolCallBehavior.AutoInvokeKernelFunctions\n",
    "};"
   ]
  },
  {
   "cell_type": "markdown",
   "metadata": {},
   "source": [
    "Using the Plugin to generate the marketing email for cycling gear"
   ]
  },
  {
   "cell_type": "code",
   "execution_count": 7,
   "metadata": {
    "dotnet_interactive": {
     "language": "csharp"
    },
    "polyglot_notebook": {
     "kernelName": "csharp"
    },
    "vscode": {
     "languageId": "polyglot-notebook"
    }
   },
   "outputs": [
    {
     "name": "stdout",
     "output_type": "stream",
     "text": [
      "Subject: Don't Miss Out on Our Special Sales Event - Up to 50% Off on Cycling Merchandise\r\n",
      "\r\n",
      "Dear Julian,\r\n",
      "\r\n",
      "We hope this email finds you well. We are excited to announce a special sales event on our cycling merchandise, with discounts of up to 50% off!\r\n",
      "\r\n",
      "Whether you're a seasoned cyclist or just starting out, we have everything you need to enhance your cycling experience. From high-quality bikes to comfortable apparel and accessories, we've got you covered.\r\n",
      "\r\n",
      "Here are some of the amazing deals you can expect:\r\n",
      "\r\n",
      "- 50% off on select bikes\r\n",
      "- 40% off on cycling jerseys and shorts\r\n",
      "- 30% off on helmets and gloves\r\n",
      "- 20% off on cycling shoes and pedals\r\n",
      "\r\n",
      "This is a limited-time offer, so don't miss out on the chance to upgrade your cycling gear at unbeatable prices. Visit our website or drop by our store to take advantage of these amazing deals.\r\n",
      "\r\n",
      "Please note that this email is being sent to you because you opted into our mailing list. If you no longer wish to receive emails from us, you can unsubscribe at any time by clicking the link at the bottom of this email.\r\n",
      "\r\n",
      "Thank you for your continued support, and we look forward to seeing you soon!\r\n",
      "\r\n",
      "Best regards,\r\n",
      "\r\n",
      "[Your Name]\r\n"
     ]
    }
   ],
   "source": [
    "// Construct arguments\n",
    "var arguments = new KernelArguments() { [\"input\"] = \"Cycling\" , [\"recipient\"] = \"Julian Soh\"};\n",
    "\n",
    "// Run the Function called Joke\n",
    "var result = await kernel.InvokeAsync(MarketingEmailPluginFunctions[\"MarketingMail\"], arguments);\n",
    "\n",
    "// Return the result to the Notebook\n",
    "Console.WriteLine(result);"
   ]
  },
  {
   "cell_type": "code",
   "execution_count": 27,
   "metadata": {
    "vscode": {
     "languageId": "polyglot-notebook"
    }
   },
   "outputs": [
    {
     "name": "stdout",
     "output_type": "stream",
     "text": [
      "Assistant > Great! Do you need help finding a place to purchase them or do you have a specific store in mind already?\n",
      "Assistant > Okay, here are few popular online stores where you can purchase cycling bibs:\n",
      "\n",
      "1. Competitive Cyclist\n",
      "2. Wiggle\n",
      "3. Chain Reaction Cycles\n",
      "4. Jenson USA\n",
      "5. Amazon\n",
      "\n",
      "You can also check with your local bike shop to see if they carry any cycling bibs or if they can special order them for you.\n",
      "Assistant > Sure, would you like some recommendations on specific cycling bibs for men or women? And what is your budget for this purchase?\n"
     ]
    },
    {
     "ename": "Error",
     "evalue": "Command cancelled.",
     "output_type": "error",
     "traceback": [
      "Command cancelled."
     ]
    }
   ],
   "source": [
    "var chatCompletionService = kernel.GetRequiredService<IChatCompletionService>();\n",
    "var history = new ChatHistory();\n",
    "\n",
    "string? userInput;\n",
    "do {\n",
    "    // Collect user input\n",
    "    //Console.Write(\"User > \");\n",
    "    //userInput = Console.ReadLine();\n",
    "    userInput = \"I want to buy cycling bibs\";\n",
    "\n",
    "    // Add user input\n",
    "    history.AddUserMessage(userInput);\n",
    "\n",
    "    // 3. Get the response from the AI with automatic function calling\n",
    "    var result = await chatCompletionService.GetChatMessageContentAsync(\n",
    "        history,\n",
    "        executionSettings: openAIPromptExecutionSettings,\n",
    "        kernel: kernel);\n",
    "\n",
    "    // Print the results\n",
    "    Console.WriteLine(\"Assistant > \" + result);\n",
    "\n",
    "    // Add the message from the agent to the chat history\n",
    "    history.AddMessage(result.Role, result.Content ?? string.Empty);\n",
    "} while (userInput is not null);"
   ]
  }
 ],
 "metadata": {
  "kernelspec": {
   "display_name": ".NET (C#)",
   "language": "C#",
   "name": ".net-csharp"
  },
  "language_info": {
   "codemirror_mode": {
    "name": "ipython",
    "version": 3
   },
   "file_extension": ".py",
   "mimetype": "text/x-python",
   "name": "python",
   "nbconvert_exporter": "python",
   "pygments_lexer": "ipython3",
   "version": "3.12.4"
  },
  "polyglot_notebook": {
   "kernelInfo": {
    "defaultKernelName": "csharp",
    "items": [
     {
      "aliases": [],
      "name": "csharp"
     }
    ]
   }
  }
 },
 "nbformat": 4,
 "nbformat_minor": 2
}
